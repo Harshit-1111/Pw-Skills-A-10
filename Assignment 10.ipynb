{
 "cells": [
  {
   "cell_type": "code",
   "execution_count": null,
   "id": "9acdbd16-4372-4d0f-b49e-3e26030d4c53",
   "metadata": {},
   "outputs": [],
   "source": [
    "'''1). what is multithreading in python? hy is it used? Name the module used to handle threads in python'''\n",
    "\n",
    "Multithreading in Python refers to the concurrent execution of multiple threads within the same process.\n",
    "Threads are lightweight, smaller units of a process, and they enable concurrent execution,\n",
    "meaning that multiple threads can run simultaneously and share the same memory space. \n",
    "\n",
    "The threading module is used to create, manage, and synchronize threads in Python. \n",
    "It provides classes and functions to work with threads, such as creating threads, starting them, waiting for them to finish"
   ]
  },
  {
   "cell_type": "code",
   "execution_count": null,
   "id": "4431afc1-04c0-4705-804d-847ae03607fa",
   "metadata": {},
   "outputs": [],
   "source": [
    "'''2- why threading module used? rite the use of the following functions\n",
    "activeCount\n",
    "currentThread\n",
    "enumerate '''\n",
    "\n",
    "The threading module in Python is used for creating, managing, and working with threads.\n",
    "It provides a high-level interface for working with threads, allowing you to create, start, join, and manage threads easily.\n",
    "\n",
    "activeCount():\n",
    "\n",
    "threading.activeCount() returns the number of Thread objects currently alive.\n",
    "It helps you determine how many threads are currently running in your Python program.\n",
    "\n",
    "\n",
    "currentThread():\n",
    "\n",
    "threading.currentThread() returns the current Thread object representing the thread from which it is called.\n",
    "You can use this function to access information about the currently executing thread, such as its name or thread ID.\n",
    "\n",
    "\n",
    "enumerate():\n",
    "\n",
    "threading.enumerate() returns a list of all Thread objects currently alive.\n",
    "It is useful for obtaining a list of all running threads, which can be helpful for debugging or monitoring purposes."
   ]
  },
  {
   "cell_type": "code",
   "execution_count": null,
   "id": "eec03c2f-dad7-43b3-bcc6-ab46cca2efe2",
   "metadata": {},
   "outputs": [],
   "source": [
    "'''3. Explain the following functions\n",
    "( run\n",
    " start\n",
    " join\n",
    "' isAlive)'''\n",
    "\n",
    "\n",
    "run():\n",
    "\n",
    "The run() method is not typically called directly by the programmer when working with the threading module. \n",
    "Instead, it's meant to be overridden in a subclass of the Thread class.\n",
    "\n",
    "start():\n",
    "\n",
    "The start() method is used to initiate the execution of a thread. When you call start(), it schedules the thread to run and invokes the run() method,\n",
    "which you should override in your custom thread class.\n",
    "It's essential to use start() to begin the execution of a thread, as it handles the thread lifecycle and ensures that the thread runs concurrently.\n",
    "\n",
    "\n",
    "join():\n",
    "\n",
    "The join() method is used to block the execution of the calling thread until the thread on which join() is called has completed its execution.\n",
    "It allows you to wait for a thread to finish before proceeding with the rest of your program.\n",
    "This is often used to ensure that all threads have completed their work before the main program exits.\n",
    "\n",
    "\n",
    "isAlive():\n",
    "\n",
    "The isAlive() method is used to check if a thread is currently alive (i.e., actively running).\n",
    "It returns True if the thread is running or False if it has completed its execution or hasn't started yet."
   ]
  },
  {
   "cell_type": "code",
   "execution_count": 1,
   "id": "158b1f6c-0b92-42e9-ae4c-c0625fbc0940",
   "metadata": {},
   "outputs": [
    {
     "name": "stdout",
     "output_type": "stream",
     "text": [
      "Square of 1 is 1\n",
      "Square of 2 is 4\n",
      "Square of 3 is 9\n",
      "Square of 4 is 16\n",
      "Square of 5 is 25\n",
      "Cube of 1 is 1\n",
      "Cube of 2 is 8\n",
      "Cube of 3 is 27\n",
      "Cube of 4 is 64\n",
      "Cube of 5 is 125\n",
      "Both threads have finished.\n"
     ]
    }
   ],
   "source": [
    "'''4. write a python program to create two threads. Thread one must print the list of squares and thread\n",
    "two must print the list of cubes'''\n",
    "\n",
    "import threading\n",
    "\n",
    "def print_squares():\n",
    "    for i in range(1, 6):\n",
    "        square = i * i\n",
    "        print(f\"Square of {i} is {square}\")\n",
    "\n",
    "def print_cubes():\n",
    "    for i in range(1, 6):\n",
    "        cube = i * i * i\n",
    "        print(f\"Cube of {i} is {cube}\")\n",
    "\n",
    "thread1 = threading.Thread(target=print_squares)\n",
    "thread2 = threading.Thread(target=print_cubes)\n",
    "\n",
    "thread1.start()\n",
    "thread2.start()\n",
    "\n",
    "thread1.join()\n",
    "thread2.join()\n",
    "\n",
    "print(\"Both threads have finished.\")\n"
   ]
  },
  {
   "cell_type": "code",
   "execution_count": null,
   "id": "ad49ddb3-9223-40ca-94e5-2d74cb18bebe",
   "metadata": {},
   "outputs": [],
   "source": [
    "'''5. State advantages and disadvantages of multithreading'''\n",
    "\n",
    "Advantages of Multithreading:\n",
    "    \n",
    "    Improved Performance\n",
    "    Concurrent Execution\n",
    "    Resource Sharing\n",
    "    Simplicity for Certain Tasks\n",
    "    \n",
    "Disadvantages of Multithreading:\n",
    "    \n",
    "    Complexity\n",
    "    Difficulty in Debugging\n",
    "    Platform-Dependent Behavior\n",
    "    Increased Memory Overhead"
   ]
  },
  {
   "cell_type": "code",
   "execution_count": null,
   "id": "569f4a04-b535-4f3c-8438-2aaba45d8dfe",
   "metadata": {},
   "outputs": [],
   "source": [
    "'''6. Explain deadlocks and race conditions.'''\n",
    "\n",
    "Deadlock:\n",
    "\n",
    "A deadlock is a situation in which two or more threads or processes are unable to proceed with their execution because they are each \n",
    "waiting for the other(s) to release a resource or take some action. This leads to a standstill, \n",
    "where no progress can be made. Deadlocks typically occur in systems with shared resources and are characterized by the following conditions, \n",
    "\n",
    "Mutual Exclusion: At least one resource must be held in a non-shareable mode. This means only one thread or process can use the resource at a time.\n",
    "Hold and Wait: A process must hold at least one resource and must be waiting for additional resources that are currently held by other processes.\n",
    "No Preemption: Resources cannot be forcibly taken away from a process; they can only be released voluntarily.\n",
    "Circular Wait: There must exist a circular chain of two or more processes, each waiting for a resource held by the next one in the chain.\n",
    "\n",
    "\n",
    "Race Condition:\n",
    "\n",
    "A race condition occurs when the behavior of a program depends on the relative timing of events, particularly the execution of multiple threads or processes. It arises when two or more threads or processes access shared data or resources concurrently, and at least one of them modifies the data. The outcome becomes unpredictable because the execution order can vary, leading to different results each time the program runs.\n",
    "\n",
    "Race conditions can result in data corruption, unexpected program crashes, or inconsistent behavior. They are usually unintended and can be challenging to reproduce and debug."
   ]
  },
  {
   "cell_type": "code",
   "execution_count": null,
   "id": "5ef2b31c-7812-4acd-ae81-6937a0c2d2ee",
   "metadata": {},
   "outputs": [],
   "source": []
  },
  {
   "cell_type": "code",
   "execution_count": null,
   "id": "d1ca8c94-87bf-43e1-aead-931a9ae15a0e",
   "metadata": {},
   "outputs": [],
   "source": []
  },
  {
   "cell_type": "code",
   "execution_count": null,
   "id": "00d7fa2b-9858-4a4c-8d72-ef3aff30821f",
   "metadata": {},
   "outputs": [],
   "source": []
  },
  {
   "cell_type": "code",
   "execution_count": null,
   "id": "4cfc9294-657a-4df3-ae2d-ae7ef11b5af3",
   "metadata": {},
   "outputs": [],
   "source": []
  }
 ],
 "metadata": {
  "kernelspec": {
   "display_name": "Python 3 (ipykernel)",
   "language": "python",
   "name": "python3"
  },
  "language_info": {
   "codemirror_mode": {
    "name": "ipython",
    "version": 3
   },
   "file_extension": ".py",
   "mimetype": "text/x-python",
   "name": "python",
   "nbconvert_exporter": "python",
   "pygments_lexer": "ipython3",
   "version": "3.10.8"
  }
 },
 "nbformat": 4,
 "nbformat_minor": 5
}
